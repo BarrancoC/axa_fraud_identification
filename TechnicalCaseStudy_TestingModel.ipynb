{
 "cells": [
  {
   "cell_type": "markdown",
   "metadata": {},
   "source": [
    "# Technical Case Study - ML Ops\n",
    "### Carlo Alberto Barranco 2022-05-08"
   ]
  },
  {
   "cell_type": "markdown",
   "metadata": {},
   "source": [
    "In this notebook I test the model created in notebook \"TechnicalCaseStudy_DefineModel\" on a rebalances sample of the test set."
   ]
  },
  {
   "cell_type": "markdown",
   "metadata": {},
   "source": [
    "On this sample performance statistics are calculated on sliding windows separated by constant steps and are saved on a text file."
   ]
  },
  {
   "cell_type": "markdown",
   "metadata": {},
   "source": [
    "## Testing model"
   ]
  },
  {
   "cell_type": "code",
   "execution_count": 3,
   "metadata": {},
   "outputs": [],
   "source": [
    "import pandas as pd\n",
    "import numpy as np"
   ]
  },
  {
   "cell_type": "code",
   "execution_count": 4,
   "metadata": {},
   "outputs": [],
   "source": [
    "from functions.model_testing import sliding_window_rebalanced_sample_test"
   ]
  },
  {
   "cell_type": "code",
   "execution_count": 1,
   "metadata": {},
   "outputs": [],
   "source": [
    "X_columns = [\n",
    "    'step', 'typeId', 'amount',\n",
    "    'oldbalanceOrg', 'newbalanceOrig', 'oldbalanceDest', 'newbalanceDest',\n",
    "    'incoerenceBalanceOrig', 'incoerenceBalanceDest',\n",
    "    'errorBalanceOrig', 'errorBalanceDest'\n",
    "]\n",
    "Y_col = 'isFraud'"
   ]
  },
  {
   "cell_type": "code",
   "execution_count": 5,
   "metadata": {},
   "outputs": [],
   "source": [
    "MODEL_PATH = 'models/2022-05-08.sav'\n",
    "TEST_DATA_PATH = 'data/tests/test-2022-05-08.csv'\n",
    "OUTPUTPATH = 'sliding_window_test.txt'"
   ]
  },
  {
   "cell_type": "code",
   "execution_count": 6,
   "metadata": {},
   "outputs": [],
   "source": [
    "# sliding window variables\n",
    "window, step = 400, 200\n",
    "\n",
    "# rebalanced sample variables\n",
    "size, ratio = 1000, 0.1"
   ]
  },
  {
   "cell_type": "code",
   "execution_count": 7,
   "metadata": {},
   "outputs": [
    {
     "name": "stdout",
     "output_type": "stream",
     "text": [
      "i0, i1, TN, FP, FN, TP, accuracy, precision, recall\n",
      "0,400,354,0,45,1,0.9975,1.0,0.9782608695652174\n",
      "200,600,357,0,43,0,1.0,1.0,1.0\n",
      "400,800,368,0,32,0,1.0,1.0,1.0\n",
      "600,1000,365,0,35,0,1.0,1.0,1.0\n"
     ]
    }
   ],
   "source": [
    "sliding_window_rebalanced_sample_test(\n",
    "    MODEL_PATH,\n",
    "    TEST_DATA_PATH,\n",
    "    X_columns,\n",
    "    Y_col,\n",
    "    window,\n",
    "    step,\n",
    "    size,\n",
    "    ratio,\n",
    "    OUTPUTPATH,\n",
    "    print_evaluations = True\n",
    ")"
   ]
  },
  {
   "cell_type": "code",
   "execution_count": null,
   "metadata": {},
   "outputs": [],
   "source": []
  }
 ],
 "metadata": {
  "kernelspec": {
   "display_name": "Python 3",
   "language": "python",
   "name": "python3"
  },
  "language_info": {
   "codemirror_mode": {
    "name": "ipython",
    "version": 3
   },
   "file_extension": ".py",
   "mimetype": "text/x-python",
   "name": "python",
   "nbconvert_exporter": "python",
   "pygments_lexer": "ipython3",
   "version": "3.7.9"
  }
 },
 "nbformat": 4,
 "nbformat_minor": 4
}
