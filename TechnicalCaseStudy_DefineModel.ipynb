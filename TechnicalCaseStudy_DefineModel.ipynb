{
 "cells": [
  {
   "cell_type": "markdown",
   "metadata": {},
   "source": [
    "# Technical Case Study - ML Ops\n",
    "### Carlo Alberto Barranco 2022-05-08"
   ]
  },
  {
   "cell_type": "markdown",
   "metadata": {},
   "source": [
    "In this notebook I created a ML classification model to identify frauds in a given transactions dataset and wrote a report of the performance of such model."
   ]
  },
  {
   "cell_type": "markdown",
   "metadata": {},
   "source": [
    "Original dataset was taken from from https://www.kaggle.com/kartik2112/fraud-detection-on-paysim-dataset/data"
   ]
  },
  {
   "cell_type": "markdown",
   "metadata": {},
   "source": [
    "In paragrafh \"Data Exploration\" I loaded the data in a pandas data-frame and studied for each column if some particular values or conditions are associated with an over-rapresentation of frauds (compared to overall average). As a result of this study I selected the columns to be used by the model and, moreovere I added a few columns expected to make easier to spot frauds."
   ]
  },
  {
   "cell_type": "markdown",
   "metadata": {},
   "source": [
    "In paragraph \"Model training\" I selected method XGBoost and trained a model using a sample of 80% of the original data."
   ]
  },
  {
   "cell_type": "markdown",
   "metadata": {},
   "source": [
    "In paragraph \"Model Evaluation\" I used the remained 20% of data to check if the model was actually spotting the frauds and collected the results in terms of\n",
    "* True Negative (non frauds, correctly on flagged)\n",
    "* False Negative (non frauds, incorrectly flagged)\n",
    "* True Positive (frauds, correctly flagged)\n",
    "* False Positive (frauds, incorrectly non flagged)\n",
    "* Accuracy (number of correctly identified transactions over total)\n",
    "* Precision (True positives over all positives)\n",
    "* Recall (True positives over all frauds)\n",
    "* Average precision score (average of precision calculated on varios sub-sets)"
   ]
  },
  {
   "cell_type": "markdown",
   "metadata": {},
   "source": [
    "In paragraph \"Save model\" the model defined and trained in the previous paragraph is saved as a pickle in folder \"models\". Also the test set is saved for future checks on the model efficacy."
   ]
  },
  {
   "cell_type": "code",
   "execution_count": 2,
   "metadata": {},
   "outputs": [],
   "source": [
    "DATA_PATH = 'data/initial_dataset.csv'"
   ]
  },
  {
   "cell_type": "markdown",
   "metadata": {},
   "source": [
    "## Data Exploration"
   ]
  },
  {
   "cell_type": "code",
   "execution_count": 69,
   "metadata": {},
   "outputs": [],
   "source": [
    "import pandas as pd\n",
    "import numpy as np"
   ]
  },
  {
   "cell_type": "code",
   "execution_count": 43,
   "metadata": {},
   "outputs": [],
   "source": [
    "df = pd.read_csv(DATA_PATH)"
   ]
  },
  {
   "cell_type": "code",
   "execution_count": 20,
   "metadata": {},
   "outputs": [
    {
     "data": {
      "text/plain": [
       "step                int64\n",
       "type               object\n",
       "amount            float64\n",
       "nameOrig           object\n",
       "oldbalanceOrg     float64\n",
       "newbalanceOrig    float64\n",
       "nameDest           object\n",
       "oldbalanceDest    float64\n",
       "newbalanceDest    float64\n",
       "isFraud             int64\n",
       "isFlaggedFraud      int64\n",
       "dtype: object"
      ]
     },
     "execution_count": 20,
     "metadata": {},
     "output_type": "execute_result"
    }
   ],
   "source": [
    "df.dtypes"
   ]
  },
  {
   "cell_type": "code",
   "execution_count": 9,
   "metadata": {},
   "outputs": [
    {
     "data": {
      "text/plain": [
       "(6362620, 8213, 16, 16)"
      ]
     },
     "execution_count": 9,
     "metadata": {},
     "output_type": "execute_result"
    }
   ],
   "source": [
    "len(df), sum(df.isFraud), sum(df.isFlaggedFraud), sum(df.isFraud*df.isFlaggedFraud)"
   ]
  },
  {
   "cell_type": "markdown",
   "metadata": {},
   "source": [
    "The dataset includes 6362620 transactions of which 8213 (0.13%) are flagged as frauds.\n",
    "\n",
    "The falg \"isFlaggedFraud\" doesn't seem really useful."
   ]
  },
  {
   "cell_type": "code",
   "execution_count": 66,
   "metadata": {},
   "outputs": [
    {
     "data": {
      "text/html": [
       "<div>\n",
       "<style scoped>\n",
       "    .dataframe tbody tr th:only-of-type {\n",
       "        vertical-align: middle;\n",
       "    }\n",
       "\n",
       "    .dataframe tbody tr th {\n",
       "        vertical-align: top;\n",
       "    }\n",
       "\n",
       "    .dataframe thead th {\n",
       "        text-align: right;\n",
       "    }\n",
       "</style>\n",
       "<table border=\"1\" class=\"dataframe\">\n",
       "  <thead>\n",
       "    <tr style=\"text-align: right;\">\n",
       "      <th></th>\n",
       "      <th>2967978</th>\n",
       "      <th>1282774</th>\n",
       "      <th>55781</th>\n",
       "      <th>2803552</th>\n",
       "      <th>1245043</th>\n",
       "    </tr>\n",
       "  </thead>\n",
       "  <tbody>\n",
       "    <tr>\n",
       "      <th>step</th>\n",
       "      <td>231</td>\n",
       "      <td>135</td>\n",
       "      <td>9</td>\n",
       "      <td>225</td>\n",
       "      <td>134</td>\n",
       "    </tr>\n",
       "    <tr>\n",
       "      <th>type</th>\n",
       "      <td>CASH_OUT</td>\n",
       "      <td>CASH_OUT</td>\n",
       "      <td>CASH_IN</td>\n",
       "      <td>PAYMENT</td>\n",
       "      <td>CASH_IN</td>\n",
       "    </tr>\n",
       "    <tr>\n",
       "      <th>amount</th>\n",
       "      <td>327854</td>\n",
       "      <td>54882.1</td>\n",
       "      <td>292949</td>\n",
       "      <td>53977.5</td>\n",
       "      <td>260425</td>\n",
       "    </tr>\n",
       "    <tr>\n",
       "      <th>nameOrig</th>\n",
       "      <td>C1632635545</td>\n",
       "      <td>C149577620</td>\n",
       "      <td>C1445583652</td>\n",
       "      <td>C1542264198</td>\n",
       "      <td>C325118727</td>\n",
       "    </tr>\n",
       "    <tr>\n",
       "      <th>oldbalanceOrg</th>\n",
       "      <td>418</td>\n",
       "      <td>15</td>\n",
       "      <td>652285</td>\n",
       "      <td>105336</td>\n",
       "      <td>753229</td>\n",
       "    </tr>\n",
       "    <tr>\n",
       "      <th>newbalanceOrig</th>\n",
       "      <td>0</td>\n",
       "      <td>0</td>\n",
       "      <td>945233</td>\n",
       "      <td>51358.7</td>\n",
       "      <td>1.01365e+06</td>\n",
       "    </tr>\n",
       "    <tr>\n",
       "      <th>nameDest</th>\n",
       "      <td>C1714935544</td>\n",
       "      <td>C856300696</td>\n",
       "      <td>C1527452964</td>\n",
       "      <td>M2137613813</td>\n",
       "      <td>C136564603</td>\n",
       "    </tr>\n",
       "    <tr>\n",
       "      <th>oldbalanceDest</th>\n",
       "      <td>318869</td>\n",
       "      <td>321191</td>\n",
       "      <td>1.17492e+06</td>\n",
       "      <td>0</td>\n",
       "      <td>311306</td>\n",
       "    </tr>\n",
       "    <tr>\n",
       "      <th>newbalanceDest</th>\n",
       "      <td>646723</td>\n",
       "      <td>713766</td>\n",
       "      <td>0</td>\n",
       "      <td>0</td>\n",
       "      <td>50880.9</td>\n",
       "    </tr>\n",
       "    <tr>\n",
       "      <th>isFraud</th>\n",
       "      <td>0</td>\n",
       "      <td>0</td>\n",
       "      <td>0</td>\n",
       "      <td>0</td>\n",
       "      <td>0</td>\n",
       "    </tr>\n",
       "    <tr>\n",
       "      <th>isFlaggedFraud</th>\n",
       "      <td>0</td>\n",
       "      <td>0</td>\n",
       "      <td>0</td>\n",
       "      <td>0</td>\n",
       "      <td>0</td>\n",
       "    </tr>\n",
       "    <tr>\n",
       "      <th>typeId</th>\n",
       "      <td>4</td>\n",
       "      <td>4</td>\n",
       "      <td>2</td>\n",
       "      <td>1</td>\n",
       "      <td>2</td>\n",
       "    </tr>\n",
       "  </tbody>\n",
       "</table>\n",
       "</div>"
      ],
      "text/plain": [
       "                    2967978     1282774      55781        2803552      1245043\n",
       "step                    231         135            9          225          134\n",
       "type               CASH_OUT    CASH_OUT      CASH_IN      PAYMENT      CASH_IN\n",
       "amount               327854     54882.1       292949      53977.5       260425\n",
       "nameOrig        C1632635545  C149577620  C1445583652  C1542264198   C325118727\n",
       "oldbalanceOrg           418          15       652285       105336       753229\n",
       "newbalanceOrig            0           0       945233      51358.7  1.01365e+06\n",
       "nameDest        C1714935544  C856300696  C1527452964  M2137613813   C136564603\n",
       "oldbalanceDest       318869      321191  1.17492e+06            0       311306\n",
       "newbalanceDest       646723      713766            0            0      50880.9\n",
       "isFraud                   0           0            0            0            0\n",
       "isFlaggedFraud            0           0            0            0            0\n",
       "typeId                    4           4            2            1            2"
      ]
     },
     "execution_count": 66,
     "metadata": {},
     "output_type": "execute_result"
    }
   ],
   "source": [
    "df.sample(5).T"
   ]
  },
  {
   "cell_type": "markdown",
   "metadata": {},
   "source": [
    "Values on balances (oldbalanceOrg, newbalanceOrig, oldbalanceDest, newbalanceDest) are not always coherent with amount values.\n",
    "\n",
    "In particular in some cases there is 0 change in balance for non 0 amounts or viceversa."
   ]
  },
  {
   "cell_type": "code",
   "execution_count": 19,
   "metadata": {},
   "outputs": [
    {
     "name": "stdout",
     "output_type": "stream",
     "text": [
      "step 0\n",
      "type 0\n",
      "amount 0\n",
      "nameOrig 0\n",
      "oldbalanceOrg 0\n",
      "newbalanceOrig 0\n",
      "nameDest 0\n",
      "oldbalanceDest 0\n",
      "newbalanceDest 0\n",
      "isFraud 0\n",
      "isFlaggedFraud 0\n"
     ]
    }
   ],
   "source": [
    "for col in df.columns:\n",
    "    print(col, len(df[df[col]!=df[col]]))"
   ]
  },
  {
   "cell_type": "markdown",
   "metadata": {},
   "source": [
    "Dataset does not have any null value"
   ]
  },
  {
   "cell_type": "code",
   "execution_count": 23,
   "metadata": {},
   "outputs": [
    {
     "data": {
      "text/plain": [
       "['TRANSFER', 'PAYMENT', 'CASH_IN', 'DEBIT', 'CASH_OUT']"
      ]
     },
     "execution_count": 23,
     "metadata": {},
     "output_type": "execute_result"
    }
   ],
   "source": [
    "txn_types = list(set(df['type']))\n",
    "txn_types"
   ]
  },
  {
   "cell_type": "code",
   "execution_count": 24,
   "metadata": {},
   "outputs": [
    {
     "name": "stdout",
     "output_type": "stream",
     "text": [
      "TRANSFER 532909 4097 0.007687991758442811\n",
      "PAYMENT 2151495 0 0.0\n",
      "CASH_IN 1399284 0 0.0\n",
      "DEBIT 41432 0 0.0\n",
      "CASH_OUT 2237500 4116 0.0018395530726256983\n"
     ]
    }
   ],
   "source": [
    "for t in txn_types:\n",
    "    dft = df[df['type']==t]\n",
    "    print(t, len(dft), sum(dft.isFraud), sum(dft.isFraud)/len(dft))"
   ]
  },
  {
   "cell_type": "markdown",
   "metadata": {},
   "source": [
    "Frauds seems to occour only for type equal to \"TRANSFER\" or \"CASH_OUT\""
   ]
  },
  {
   "cell_type": "code",
   "execution_count": 44,
   "metadata": {},
   "outputs": [],
   "source": [
    "txn_types_dict = {'TRANSFER': 0, 'PAYMENT': 1, 'CASH_IN': 2, 'DEBIT': 3, 'CASH_OUT': 4}\n",
    "txn_types_rev_dict = {0: 'TRANSFER', 1: 'PAYMENT', 2: 'CASH_IN', 3: 'DEBIT', 4: 'CASH_OUT'}"
   ]
  },
  {
   "cell_type": "code",
   "execution_count": 45,
   "metadata": {},
   "outputs": [],
   "source": [
    "df['typeId'] = df['type'].apply(lambda x: txn_types_dict[x])"
   ]
  },
  {
   "cell_type": "markdown",
   "metadata": {},
   "source": [
    "Converted \"type\" to int using txn_types_dict to use it among other columns as one of the predictors"
   ]
  },
  {
   "cell_type": "code",
   "execution_count": 70,
   "metadata": {},
   "outputs": [],
   "source": [
    "df['incoerenceBalanceOrig'] = np.where(\n",
    "    df.oldbalanceOrg==df.newbalanceOrig, np.where(df.amount!=0, 1, 0), np.where(df.amount==0, 1, 0)\n",
    ")\n",
    "df['incoerenceBalanceDest'] = np.where(\n",
    "    df.oldbalanceDest==df.newbalanceDest, np.where(df.amount!=0, 1, 0), np.where(df.amount==0, 1, 0)\n",
    ")"
   ]
  },
  {
   "cell_type": "code",
   "execution_count": 80,
   "metadata": {},
   "outputs": [
    {
     "name": "stdout",
     "output_type": "stream",
     "text": [
      "incoerenceBalanceOrig 0 1461824 8172 0.005590276257606935\n",
      "incoerenceBalanceOrig 1 1308585 41 3.133155278411414e-05\n",
      "incoerenceBalanceDest 0 2764633 4143 0.0014985714197870024\n",
      "incoerenceBalanceDest 1 5776 4070 0.7046398891966759\n"
     ]
    }
   ],
   "source": [
    "for col in ['incoerenceBalanceOrig', 'incoerenceBalanceDest']:\n",
    "    for val in [0, 1]:\n",
    "        dfcv = df[(df[col]==val)&(df['type'].isin([\"TRANSFER\", \"CASH_OUT\"]))]\n",
    "        print(col, val, len(dfcv), sum(dfcv.isFraud), sum(dfcv.isFraud)/len(dfcv))"
   ]
  },
  {
   "cell_type": "markdown",
   "metadata": {},
   "source": [
    "Frauds seems to be much more likely when there is incoerence in BalanceDest"
   ]
  },
  {
   "cell_type": "markdown",
   "metadata": {},
   "source": [
    "Cold be worth to check if balances are more relevantly off for frouds"
   ]
  },
  {
   "cell_type": "code",
   "execution_count": 106,
   "metadata": {},
   "outputs": [],
   "source": [
    "df['errorBalanceOrig'] = df['newbalanceOrig'] + df['amount'] - df['oldbalanceOrg']\n",
    "df['errorBalanceDest'] = df['oldbalanceDest'] + df['amount'] - df['newbalanceDest']"
   ]
  },
  {
   "cell_type": "code",
   "execution_count": 110,
   "metadata": {},
   "outputs": [
    {
     "name": "stdout",
     "output_type": "stream",
     "text": [
      "errorBalanceOrig 0 286803.51\n",
      "errorBalanceOrig 1 10692.33\n",
      "errorBalanceDest 0 44302.66\n",
      "errorBalanceDest 1 745138.59\n"
     ]
    }
   ],
   "source": [
    "for col in ['errorBalanceOrig', 'errorBalanceDest']:\n",
    "    for val in [0, 1]:\n",
    "        X = df[(df['isFraud']==val)&(df['type'].isin([\"TRANSFER\", \"CASH_OUT\"]))][col].abs().mean()\n",
    "        print(col, val, round(X, 2))"
   ]
  },
  {
   "cell_type": "markdown",
   "metadata": {},
   "source": [
    "Discrepacies in BalanceDest seems way more relevant for frauds"
   ]
  },
  {
   "cell_type": "markdown",
   "metadata": {},
   "source": [
    "## Model training"
   ]
  },
  {
   "cell_type": "code",
   "execution_count": 83,
   "metadata": {},
   "outputs": [],
   "source": [
    "from sklearn.model_selection import train_test_split\n",
    "from sklearn.metrics import average_precision_score\n",
    "from sklearn.metrics import confusion_matrix\n",
    "from xgboost import XGBClassifier"
   ]
  },
  {
   "cell_type": "code",
   "execution_count": 113,
   "metadata": {},
   "outputs": [],
   "source": [
    "Id_columns = ['nameOrig', 'nameDest']\n",
    "X_columns = [\n",
    "    'step', 'typeId', 'amount',\n",
    "    'oldbalanceOrg', 'newbalanceOrig', 'oldbalanceDest', 'newbalanceDest',\n",
    "    'incoerenceBalanceOrig', 'incoerenceBalanceDest',\n",
    "    'errorBalanceOrig', 'errorBalanceDest'\n",
    "]\n",
    "Y_col = 'isFraud'"
   ]
  },
  {
   "cell_type": "code",
   "execution_count": 114,
   "metadata": {},
   "outputs": [],
   "source": [
    "Y = df[Y_col]\n",
    "X = df[X_columns]"
   ]
  },
  {
   "cell_type": "code",
   "execution_count": 115,
   "metadata": {},
   "outputs": [],
   "source": [
    "Xtrain, Xtest, Ytrain, Ytest = train_test_split(X, Y, test_size=0.2, random_state=1)"
   ]
  },
  {
   "cell_type": "markdown",
   "metadata": {},
   "source": [
    "Trying to use xgboost classifier with 4 layers"
   ]
  },
  {
   "cell_type": "code",
   "execution_count": 116,
   "metadata": {},
   "outputs": [],
   "source": [
    "weights = (Y == 0).sum() / (Y == 1).sum()\n",
    "clsf_model = XGBClassifier(max_depth = 4, scale_pos_weight = weights, n_jobs = 4)"
   ]
  },
  {
   "cell_type": "code",
   "execution_count": 117,
   "metadata": {},
   "outputs": [
    {
     "data": {
      "text/plain": [
       "XGBClassifier(base_score=0.5, booster='gbtree', callbacks=None,\n",
       "              colsample_bylevel=1, colsample_bynode=1, colsample_bytree=1,\n",
       "              early_stopping_rounds=None, enable_categorical=False,\n",
       "              eval_metric=None, gamma=0, gpu_id=-1, grow_policy='depthwise',\n",
       "              importance_type=None, interaction_constraints='',\n",
       "              learning_rate=0.300000012, max_bin=256, max_cat_to_onehot=4,\n",
       "              max_delta_step=0, max_depth=4, max_leaves=0, min_child_weight=1,\n",
       "              missing=nan, monotone_constraints='()', n_estimators=100,\n",
       "              n_jobs=4, num_parallel_tree=1, predictor='auto', random_state=0,\n",
       "              reg_alpha=0, reg_lambda=1, ...)"
      ]
     },
     "execution_count": 117,
     "metadata": {},
     "output_type": "execute_result"
    }
   ],
   "source": [
    "clsf_model.fit(Xtrain,Ytrain)"
   ]
  },
  {
   "cell_type": "markdown",
   "metadata": {},
   "source": [
    "## Model Evaluation"
   ]
  },
  {
   "cell_type": "code",
   "execution_count": 118,
   "metadata": {},
   "outputs": [
    {
     "name": "stdout",
     "output_type": "stream",
     "text": [
      "Confusion matrix\n",
      "[[1270870       7]\n",
      " [      4    1643]]\n"
     ]
    }
   ],
   "source": [
    "# confusion matrix for test set\n",
    "Ypredict = clsf_model.predict(Xtest)\n",
    "conf = confusion_matrix(Ytest, Ypredict)\n",
    "print(\"Confusion matrix\")\n",
    "print(conf)"
   ]
  },
  {
   "cell_type": "code",
   "execution_count": 142,
   "metadata": {},
   "outputs": [
    {
     "name": "stdout",
     "output_type": "stream",
     "text": [
      "Accuracy 0.9999913557622488\n",
      "Precision 0.9957575757575757\n",
      "Recall 0.9975713418336369\n",
      "Average precision score 0.9989724183186716\n"
     ]
    }
   ],
   "source": [
    "print('Accuracy', (conf[0][0] + conf[1][1])/len(Ypredict))\n",
    "print('Precision', conf[1][1]/(conf[1][1]+conf[0][1]))\n",
    "print('Recall', conf[1][1]/(conf[1][1]+conf[1][0]))\n",
    "print('Average precision score', average_precision_score(Ytest, clsf_model.predict_proba(Xtest)[:,1]))"
   ]
  },
  {
   "cell_type": "markdown",
   "metadata": {},
   "source": [
    "## Save model"
   ]
  },
  {
   "cell_type": "code",
   "execution_count": 121,
   "metadata": {},
   "outputs": [],
   "source": [
    "import datetime as dt\n",
    "import pickle"
   ]
  },
  {
   "cell_type": "code",
   "execution_count": 125,
   "metadata": {},
   "outputs": [],
   "source": [
    "d = str(dt.datetime.now())[:10]\n",
    "filename = f'models/{d}.sav'\n",
    "pickle.dump(clsf_model, open(filename, 'wb'))"
   ]
  },
  {
   "cell_type": "code",
   "execution_count": 131,
   "metadata": {},
   "outputs": [],
   "source": [
    "df_test = Xtest.copy()\n",
    "df_test['isFraud'] = Ytest\n",
    "filename = f'data/tests/test-{d}.csv'\n",
    "df_test.to_csv(filename, index=False)"
   ]
  },
  {
   "cell_type": "code",
   "execution_count": null,
   "metadata": {},
   "outputs": [],
   "source": []
  },
  {
   "cell_type": "code",
   "execution_count": null,
   "metadata": {},
   "outputs": [],
   "source": []
  },
  {
   "cell_type": "code",
   "execution_count": null,
   "metadata": {},
   "outputs": [],
   "source": []
  }
 ],
 "metadata": {
  "kernelspec": {
   "display_name": "Python 3",
   "language": "python",
   "name": "python3"
  },
  "language_info": {
   "codemirror_mode": {
    "name": "ipython",
    "version": 3
   },
   "file_extension": ".py",
   "mimetype": "text/x-python",
   "name": "python",
   "nbconvert_exporter": "python",
   "pygments_lexer": "ipython3",
   "version": "3.7.9"
  }
 },
 "nbformat": 4,
 "nbformat_minor": 4
}
